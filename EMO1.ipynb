{
  "nbformat": 4,
  "nbformat_minor": 0,
  "metadata": {
    "colab": {
      "provenance": [],
      "authorship_tag": "ABX9TyO6g5iKkjUJN3RCMalggvap"
    },
    "kernelspec": {
      "name": "python3",
      "display_name": "Python 3"
    },
    "language_info": {
      "name": "python"
    }
  },
  "cells": [
    {
      "cell_type": "markdown",
      "source": [
        "# EMO1: The Emotional Arc Visualizer 📊\n",
        "\n",
        "emo1 is a Python tool that analyzes the emotional journey of a text and visualizes it as a graph. Instead of using complex AI models, it employs a lexicon-based approach to identify and quantify the emotional content of a story, chapter, or article. This makes it lightweight, fast, and highly interpretable.\n",
        "\n",
        "-----\n",
        "\n",
        "## How It Works\n",
        "\n",
        "The core of emo1 is the **NRC Emotion Lexicon**, a database that maps thousands of English words to eight primary emotions (joy, sadness, anger, fear, etc.). The script works through the following steps:\n",
        "\n",
        "1.  **Loads the \"Brain\":** It first reads the NRC Emotion Lexicon file to learn which words are associated with which emotions.\n",
        "2.  **Chunks the Text:** It breaks the input story into smaller, sequential segments (chunks).\n",
        "3.  **Analyzes Each Chunk:** For each chunk, it tokenizes the text into individual words, reduces them to their root form (**lemmatization**), and looks them up in the lexicon.\n",
        "4.  **Scores Emotions:** It counts how many words associated with each emotion appear in the chunk.\n",
        "5.  **Normalizes Scores:** To ensure fair comparisons between chunks of different lengths, it calculates the \"emotional density\" by dividing the word counts by the total number of words in the chunk.\n",
        "6.  **Visualizes the Arc:** Finally, it uses `matplotlib` to plot these scores, creating a visual representation of the story's emotional flow.\n",
        "\n",
        "-----\n",
        "\n",
        "## Setup & Usage\n",
        "\n",
        "### 1\\. Prerequisites\n",
        "\n",
        "  * Python 3.x\n",
        "  * `pip` for package installation\n",
        "\n",
        "### 2\\. Installation\n",
        "\n",
        "Open your terminal or command prompt and install the necessary Python libraries:\n",
        "\n",
        "```bash\n",
        "pip install pandas matplotlib nltk\n",
        "```\n",
        "\n",
        "### 3\\. Required Files\n",
        "\n",
        "Before running the script, make sure you have the following two files in the same directory:\n",
        "\n",
        "1.  `nrc_lexicon (1).txt`: The emotional dictionary.\n",
        "2.  `your_story.txt`: The text file you want to analyze.\n",
        "\n",
        "### 4\\. Running the Script\n",
        "\n",
        "Execute the Python script from your terminal. The script is designed to be run in an environment like Google Colab, where it will prompt you to upload files, but the local version below is adapted for clarity.\n",
        "\n",
        "-----\n",
        "\n",
        "## Detailed Code Explanation\n",
        "\n",
        "The script is built around the `emo1Analyzer` class (previously `PlotPulseAnalyzer`), which encapsulates all the logic for the analysis.\n",
        "\n",
        "### The `emo1Analyzer` Class\n",
        "\n",
        "#### `__init__(self, lexicon_path)` (The Constructor)\n",
        "\n",
        "  * **Purpose:** To initialize a new `emo1Analyzer` object.\n",
        "  * **What it does:**\n",
        "      * It immediately calls `_load_lexicon()` to read the emotion dictionary from the provided file path and store it in `self.lexicon`. This is the \"brain\" of the analyzer.\n",
        "      * It creates an instance of NLTK's `WordNetLemmatizer`, a tool used to reduce words to their root form (e.g., \"running\" -\\> \"run\").\n",
        "\n",
        "#### `_load_lexicon(self, filepath)` (The Brain Loader)\n",
        "\n",
        "  * **Purpose:** To parse the `nrc_lexicon.txt` file.\n",
        "  * **What it does:**\n",
        "      * It opens the file and reads it line by line.\n",
        "      * Each line is expected to be tab-separated (`word\\temotion\\tassociation`).\n",
        "      * If the `association` value is `1`, it means the word is linked to that emotion.\n",
        "      * It builds a Python dictionary where each key is a word and the value is a list of associated emotions (e.g., `{'happy': ['joy', 'trust']}`).\n",
        "      * Includes a `try...except` block to handle a `FileNotFoundError` gracefully.\n",
        "\n",
        "#### `_get_wordnet_pos(self, word)` (The Grammar Helper)\n",
        "\n",
        "  * **Purpose:** To assist the lemmatizer by identifying a word's part of speech (POS).\n",
        "  * **What it does:**\n",
        "      * Lemmatization is more accurate if it knows whether a word is a verb, noun, adjective, etc.\n",
        "      * This helper function takes a word, uses `nltk.pos_tag()` to get its POS tag, and converts it into a format that the `WordNetLemmatizer` understands.\n",
        "\n",
        "#### `analyze(self, text, chunk_size=150)` (The Engine)\n",
        "\n",
        "  * **Purpose:** This is the main analysis function. It takes the full story text and processes it.\n",
        "  * **What it does, step-by-step:**\n",
        "    1.  **Chunking:** It splits the entire text into a list of smaller strings, each containing `chunk_size` words.\n",
        "    2.  **Iteration:** It loops through each `chunk`.\n",
        "    3.  **Scoring:** Inside the loop, for each chunk:\n",
        "          * It initializes a dictionary of scores for the eight emotions, all set to 0.\n",
        "          * It tokenizes the chunk into a list of individual words using `word_tokenize()`.\n",
        "          * It iterates through every `word` in the chunk.\n",
        "          * For each `word`, it finds its root form (`lemma`) using the lemmatizer.\n",
        "          * It checks if the `lemma` exists as a key in `self.lexicon`.\n",
        "          * If it exists, it increments the score for each emotion associated with that word.\n",
        "    4.  **Normalization:** After counting the emotional words in a chunk, it divides each emotion's score by the total number of words in that chunk. This converts a raw count into a density score, making the analysis fair.\n",
        "    5.  **Returns Results:** It stores the scores for each chunk and returns them all as a single `pandas` DataFrame, which is perfectly structured for plotting.\n",
        "\n",
        "#### `plot(self, dataframe, title)` (The Artist)\n",
        "\n",
        "  * **Purpose:** To create the final visualization from the analysis data.\n",
        "  * **What it does:**\n",
        "      * It takes the `DataFrame` generated by the `analyze` method.\n",
        "      * It uses the `.plot()` method from pandas, which is a wrapper around `matplotlib`.\n",
        "      * `kind='bar'` and `stacked=True` are the key commands that create the stacked bar chart.\n",
        "      * The rest of the function is dedicated to making the plot beautiful and readable: setting the title, labeling the axes, creating a legend, and adjusting the layout.\n",
        "\n",
        "-----\n",
        "\n",
        "## Customization\n",
        "\n",
        "  * **Chunk Size:** You can easily change the granularity of the analysis by modifying the `chunk_size` argument in the `analyzer.analyze(story_text, chunk_size=200)` call. A smaller size gives a more detailed but potentially noisier graph.\n",
        "  * **Plot Type:** Change `kind='bar'` in the `plot` function to `kind='line'` or `kind='area'` to experiment with different visualizations.\n",
        "  * **Colors:** Change the `colormap='viridis'` argument to another `matplotlib` colormap like `'plasma'`, `'inferno'`, or `'magma'`."
      ],
      "metadata": {
        "id": "PhJRSdMBAeoW"
      }
    },
    {
      "cell_type": "code",
      "execution_count": null,
      "metadata": {
        "colab": {
          "base_uri": "https://localhost:8080/"
        },
        "id": "kCSgTwd5IJ1y",
        "outputId": "f4cc40a4-86e0-4201-9f6e-599379701bc0"
      },
      "outputs": [
        {
          "output_type": "stream",
          "name": "stdout",
          "text": [
            "Requirement already satisfied: nltk in /usr/local/lib/python3.12/dist-packages (3.9.1)\n",
            "Requirement already satisfied: matplotlib in /usr/local/lib/python3.12/dist-packages (3.10.0)\n",
            "Requirement already satisfied: pandas in /usr/local/lib/python3.12/dist-packages (2.2.2)\n",
            "Requirement already satisfied: click in /usr/local/lib/python3.12/dist-packages (from nltk) (8.2.1)\n",
            "Requirement already satisfied: joblib in /usr/local/lib/python3.12/dist-packages (from nltk) (1.5.1)\n",
            "Requirement already satisfied: regex>=2021.8.3 in /usr/local/lib/python3.12/dist-packages (from nltk) (2024.11.6)\n",
            "Requirement already satisfied: tqdm in /usr/local/lib/python3.12/dist-packages (from nltk) (4.67.1)\n",
            "Requirement already satisfied: contourpy>=1.0.1 in /usr/local/lib/python3.12/dist-packages (from matplotlib) (1.3.3)\n",
            "Requirement already satisfied: cycler>=0.10 in /usr/local/lib/python3.12/dist-packages (from matplotlib) (0.12.1)\n",
            "Requirement already satisfied: fonttools>=4.22.0 in /usr/local/lib/python3.12/dist-packages (from matplotlib) (4.59.1)\n",
            "Requirement already satisfied: kiwisolver>=1.3.1 in /usr/local/lib/python3.12/dist-packages (from matplotlib) (1.4.9)\n",
            "Requirement already satisfied: numpy>=1.23 in /usr/local/lib/python3.12/dist-packages (from matplotlib) (2.0.2)\n",
            "Requirement already satisfied: packaging>=20.0 in /usr/local/lib/python3.12/dist-packages (from matplotlib) (25.0)\n",
            "Requirement already satisfied: pillow>=8 in /usr/local/lib/python3.12/dist-packages (from matplotlib) (11.3.0)\n",
            "Requirement already satisfied: pyparsing>=2.3.1 in /usr/local/lib/python3.12/dist-packages (from matplotlib) (3.2.3)\n",
            "Requirement already satisfied: python-dateutil>=2.7 in /usr/local/lib/python3.12/dist-packages (from matplotlib) (2.9.0.post0)\n",
            "Requirement already satisfied: pytz>=2020.1 in /usr/local/lib/python3.12/dist-packages (from pandas) (2025.2)\n",
            "Requirement already satisfied: tzdata>=2022.7 in /usr/local/lib/python3.12/dist-packages (from pandas) (2025.2)\n",
            "Requirement already satisfied: six>=1.5 in /usr/local/lib/python3.12/dist-packages (from python-dateutil>=2.7->matplotlib) (1.17.0)\n"
          ]
        }
      ],
      "source": [
        "! pip install nltk matplotlib pandas"
      ]
    },
    {
      "cell_type": "code",
      "source": [
        "import nltk\n",
        "import pandas as pd\n",
        "import matplotlib.pyplot as plt\n",
        "from nltk.tokenize import word_tokenize\n",
        "from nltk.stem import WordNetLemmatizer\n",
        "from nltk.corpus import wordnet\n",
        "from google.colab import files"
      ],
      "metadata": {
        "id": "GztlIkr6LFbu"
      },
      "execution_count": null,
      "outputs": []
    },
    {
      "cell_type": "code",
      "source": [
        "#! wget -q --show-progress -O nrc_lexicon.txt \"https://archive.org/download/nrc-emotion-lexicon-v0.92/NRC-emotion-lexicon-wordlevel-alphabetized-v0.92.txt\"\n"
      ],
      "metadata": {
        "id": "3NgkJ9KBLcU_"
      },
      "execution_count": null,
      "outputs": []
    },
    {
      "cell_type": "code",
      "source": [
        "nltk.download('punkt', quiet=True)\n",
        "nltk.download('wordnet', quiet=True)\n",
        "nltk.download('averaged_perceptron_tagger_eng', quiet=True)\n",
        "nltk.download('punkt_tab')\n"
      ],
      "metadata": {
        "colab": {
          "base_uri": "https://localhost:8080/"
        },
        "id": "ZDansPxuobwx",
        "outputId": "e94919a9-7360-4f46-cbcf-8d12ae186650"
      },
      "execution_count": null,
      "outputs": [
        {
          "output_type": "stream",
          "name": "stderr",
          "text": [
            "[nltk_data] Downloading package punkt_tab to /root/nltk_data...\n",
            "[nltk_data]   Package punkt_tab is already up-to-date!\n"
          ]
        },
        {
          "output_type": "execute_result",
          "data": {
            "text/plain": [
              "True"
            ]
          },
          "metadata": {},
          "execution_count": 27
        }
      ]
    },
    {
      "cell_type": "code",
      "source": [
        "class PlotPulseAnalyzer:\n",
        "    \"\"\"\n",
        "    Analyzes and visualizes the emotional arc of a text using the NRC Lexicon.\n",
        "    \"\"\"\n",
        "    def __init__(self, lexicon_path):\n",
        "        self.lexicon = self._load_lexicon(lexicon_path)\n",
        "        self.lemmatizer = WordNetLemmatizer()\n",
        "        self.emotion_labels = ['joy', 'sadness', 'anger', 'fear', 'surprise', 'anticipation', 'disgust', 'trust']\n",
        "\n",
        "\n",
        "    def _load_lexicon(self, filepath):\n",
        "        \"\"\"Loads the NRC lexicon into a dictionary.\"\"\"\n",
        "        lexicon = {}\n",
        "        try:\n",
        "            with open(filepath, 'r', encoding='utf-8') as f:\n",
        "                for line in f:\n",
        "                    parts = line.strip().split('\\t')\n",
        "                    if len(parts) == 3:\n",
        "                        word, emotion, association = parts\n",
        "                        if int(association) == 1:\n",
        "                            lexicon.setdefault(word, []).append(emotion)\n",
        "        except FileNotFoundError:\n",
        "            print(f\"Error: The lexicon file was not found at {filepath}\")\n",
        "            return None\n",
        "        return lexicon\n",
        "\n",
        "    def _get_wordnet_pos(self, word):\n",
        "        \"\"\"Map POS tag to the format needed by the lemmatizer.\"\"\"\n",
        "        tag = nltk.pos_tag([word])[0][1][0].upper()\n",
        "        tag_dict = {\"J\": wordnet.ADJ, \"N\": wordnet.NOUN,\n",
        "                    \"V\": wordnet.VERB, \"R\": wordnet.ADV}\n",
        "        return tag_dict.get(tag, wordnet.NOUN)\n",
        "\n",
        "    def analyze(self, text, chunk_size=400):\n",
        "        \"\"\"\n",
        "        Analyzes the text by chunking, lemmatizing, scoring emotions,\n",
        "        and normalizing the results. Returns a pandas DataFrame.\n",
        "        \"\"\"\n",
        "        if not self.lexicon:\n",
        "             print(\"Cannot analyze: Lexicon not loaded.\")\n",
        "             return pd.DataFrame()\n",
        "\n",
        "        words = text.split()\n",
        "        # Ensure the last chunk is included, even if it's smaller than chunk_size\n",
        "        chunks = [\" \".join(words[i:i + chunk_size]) for i in range(0, len(words), chunk_size)]\n",
        "\n",
        "        results = []\n",
        "        for chunk in chunks:\n",
        "            chunk_words = word_tokenize(chunk.lower())\n",
        "            scores = {emotion: 0 for emotion in self.emotion_labels}\n",
        "\n",
        "            for word in chunk_words:\n",
        "                lemma = self.lemmatizer.lemmatize(word, self._get_wordnet_pos(word))\n",
        "                if lemma in self.lexicon:\n",
        "                    for emotion in self.lexicon[lemma]:\n",
        "                        if emotion in scores:\n",
        "                            scores[emotion] += 1\n",
        "\n",
        "            total_words = len(chunk_words)\n",
        "            if total_words > 0:\n",
        "                for emotion in scores:\n",
        "                    scores[emotion] /= total_words\n",
        "\n",
        "            results.append(scores)\n",
        "\n",
        "        return pd.DataFrame(results)\n",
        "\n",
        "    def plot(self, dataframe, title=\"Emotional Arc of the Story\"):\n",
        "        \"\"\"\n",
        "        Plots the emotional arc using a BAR graph, which is better for few chunks.\n",
        "        \"\"\"\n",
        "        if dataframe.empty or dataframe.sum().sum() == 0:\n",
        "            print(\"⚠️ WARNING: No emotional data to plot. The graph is empty.\")\n",
        "            return\n",
        "\n",
        "\n",
        "        ax = dataframe.plot(\n",
        "            kind='bar',\n",
        "            stacked=True,\n",
        "            figsize=(12, 8),\n",
        "            colormap='viridis',\n",
        "            width=0.4 # Making the bars a bit narrower\n",
        "        )\n",
        "\n",
        "        # This makes the x-axis labels clearer (\"Chunk 1\", \"Chunk 2\", etc.)\n",
        "        ax.set_xticklabels([f\"Chunk {i+1}\" for i in range(len(dataframe))], rotation=0)\n",
        "\n",
        "        plt.title(title, fontsize=18, weight='bold')\n",
        "        plt.xlabel(\"Story Chunk\", fontsize=12)\n",
        "        plt.ylabel(\"Emotional Density\", fontsize=12)\n",
        "        plt.legend(title='Emotions', loc='upper left', bbox_to_anchor=(1.02, 1.0))\n",
        "        plt.grid(axis='y', linestyle='--', alpha=0.7) # Gridlines only on y-axis\n",
        "        plt.tight_layout(rect=[0, 0, 0.85, 1])\n",
        "        plt.show()"
      ],
      "metadata": {
        "id": "F3FGMBCbMmAE"
      },
      "execution_count": null,
      "outputs": []
    },
    {
      "cell_type": "code",
      "source": [
        "LEXICON_FILE = 'nrc_lexicon.txt'\n",
        "STORY_FILE = '/content/poe (1).txt'\n",
        "\n",
        "# --- Read the story file ---\n",
        "try:\n",
        "    with open(STORY_FILE, \"r\", encoding=\"utf-8\", errors='ignore') as f:\n",
        "        story_text = f.read()\n",
        "\n",
        "    # --- Run the analyzer and plot the results ---\n",
        "    analyzer = PlotPulseAnalyzer(lexicon_path=LEXICON_FILE)\n",
        "    emotional_df = analyzer.analyze(story_text)\n",
        "    analyzer.plot(emotional_df, title=f\"Emotional Arc of '{STORY_FILE}'\")\n",
        "\n",
        "except FileNotFoundError:\n",
        "    print(f\"Error: Could not find the story file '{STORY_FILE}'. Please make sure it's uploaded.\")"
      ],
      "metadata": {
        "colab": {
          "base_uri": "https://localhost:8080/",
          "height": 807
        },
        "id": "4LxcQHgGmAlN",
        "outputId": "3a5c9b6d-00a6-46b5-c826-9079cf70ac1a"
      },
      "execution_count": null,
      "outputs": [
        {
          "output_type": "display_data",
          "data": {
            "text/plain": [
              "<Figure size 1200x800 with 1 Axes>"
            ],
            "image/png": "[encoded data removed]"
          },
          "metadata": {}
        }
      ]
    },
    {
      "cell_type": "code",
      "source": [],
      "metadata": {
        "id": "wAmq9E6MokFG"
      },
      "execution_count": null,
      "outputs": []
    }
  ]
}